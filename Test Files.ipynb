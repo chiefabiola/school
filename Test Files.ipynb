{
 "cells": [
  {
   "cell_type": "code",
   "execution_count": 2,
   "id": "096e5d97-7530-487a-9fa2-1bed33abcb2c",
   "metadata": {},
   "outputs": [
    {
     "name": "stdout",
     "output_type": "stream",
     "text": [
      "Training and testing sets have been saved successfully!\n"
     ]
    }
   ],
   "source": [
    "\n",
    "import pandas as pd\n",
    "from sklearn.model_selection import train_test_split\n",
    "\n",
    "\n",
    "file_path = r'C:\\Users\\admin\\Desktop\\WORK\\datasets\\Kaagle_Upload.csv'\n",
    "\n",
    "\n",
    "dataset = pd.read_csv(file_path, low_memory=False)\n",
    "\n",
    "\n",
    "relevant_columns = ['vehicle_type', 'vehicle_manoeuvre', 'sex_of_driver', 'age_of_driver', \n",
    "                    'road_surface_conditions', 'weather_conditions', 'casualty_severity']\n",
    "\n",
    "\n",
    "filtered_data = dataset[relevant_columns].dropna()\n",
    "\n",
    "\n",
    "X = filtered_data.drop(columns=['casualty_severity']) \n",
    "y = filtered_data['casualty_severity']  \n",
    "\n",
    "\n",
    "X_train, X_test, y_train, y_test = train_test_split(X, y, test_size=0.3, random_state=42)\n",
    "\n",
    "\n",
    "X_train.to_csv(r'C:\\Users\\admin\\Desktop\\WORK\\datasets\\X_train.csv', index=False)\n",
    "X_test.to_csv(r'C:\\Users\\admin\\Desktop\\WORK\\datasets\\X_test.csv', index=False)\n",
    "y_train.to_csv(r'C:\\Users\\admin\\Desktop\\WORK\\datasets\\y_train.csv', index=False)\n",
    "y_test.to_csv(r'C:\\Users\\admin\\Desktop\\WORK\\datasets\\y_test.csv', index=False)\n",
    "\n",
    "print(\"Training and testing sets have been saved successfully!\")\n"
   ]
  },
  {
   "cell_type": "code",
   "execution_count": null,
   "id": "4302366c-a070-483c-8652-57216a8bbad1",
   "metadata": {},
   "outputs": [],
   "source": []
  }
 ],
 "metadata": {
  "kernelspec": {
   "display_name": "Python 3 (ipykernel)",
   "language": "python",
   "name": "python3"
  },
  "language_info": {
   "codemirror_mode": {
    "name": "ipython",
    "version": 3
   },
   "file_extension": ".py",
   "mimetype": "text/x-python",
   "name": "python",
   "nbconvert_exporter": "python",
   "pygments_lexer": "ipython3",
   "version": "3.12.4"
  }
 },
 "nbformat": 4,
 "nbformat_minor": 5
}
